{
 "cells": [
  {
   "cell_type": "code",
   "execution_count": 185,
   "metadata": {
    "collapsed": true
   },
   "outputs": [],
   "source": [
    "# import wind data\n",
    "import pandas as pd\n",
    "df_wine = pd.read_csv('wine.data',header=None)\n",
    "df_wine.columns=['Class label','Alcohol','Malic acid','Ash','Alcalinity of ash','Magnesium','Total phenols','Flavanoids'\n",
    "                ,'Nonflavanoid phenols','Proanthocynins','Color intensity','Hue','OD280/OD315 of diluted wines',\n",
    "                'Proline']\n",
    "df_wine = df_wine[df_wine['Class label'] !=1] # drop 1 class\n",
    "y = df_wine['Class label'].values\n",
    "X = df_wine[['Alcohol','OD280/OD315 of diluted wines']].values\n",
    "# encode the data and split\n",
    "from sklearn.preprocessing import LabelEncoder\n",
    "from sklearn.model_selection import train_test_split\n",
    "le = LabelEncoder()\n",
    "y = le.fit_transform(y)\n",
    "y[y==0] = -1\n",
    "X_train,X_test,y_train,y_test = train_test_split(X,y,test_size=0.2,random_state=1,stratify=y)"
   ]
  },
  {
   "cell_type": "code",
   "execution_count": 186,
   "metadata": {},
   "outputs": [],
   "source": [
    "# Adaboost from scratch\n",
    "# Reference: Sergios Theordoridis book\n",
    "import numpy as np\n",
    "#from Decision_tree import Decision_Tree\n",
    "from sklearn.tree import DecisionTreeClassifier\n",
    "\n",
    "class Adaboost(object):\n",
    "    \n",
    "    def __init__(self,N_classifiers=50,max_depth=1):\n",
    "        self.N_classifiers = N_classifiers\n",
    "        self.max_depth = max_depth\n",
    "    \n",
    "    def train(self,X,y):\n",
    "        N = X.shape[0]\n",
    "        w = 1/N*np.ones((N)) # initialize the weight\n",
    "        a = np.zeros((self.N_classifiers,1))\n",
    "        classifiers = []\n",
    "\n",
    "        for i in range(self.N_classifiers):\n",
    "            # compute the optimum theta in the stump by minimizing the weighted error rate P\n",
    "            #tree = Decision_Tree(impurity_fun='entropy',max_depth=self.max_depth)\n",
    "            tree = DecisionTreeClassifier(max_depth=self.max_depth,criterion='entropy',random_state=1)\n",
    "            #print(w)\n",
    "            tree.fit(X,y,w)\n",
    "            #print(tree.root.split)\n",
    "            #print(tree.root.lchild.split)\n",
    "            #print(tree.root.rchild.split)\n",
    "\n",
    "\n",
    "            y_hat = tree.predict(X)\n",
    "            idx_wrong = y_hat != y\n",
    "            P = sum(w[idx_wrong])\n",
    "            #print(P)\n",
    "            a[i] = 0.5*np.log((1-P)/P)\n",
    "\n",
    "\n",
    "            #print(y_hat)\n",
    "            w = w*np.exp(-y*a[i]*y_hat)\n",
    "            Z = sum(w)\n",
    "\n",
    "            #print(w)\n",
    "            w = w/Z # normalize the weight \n",
    "            #print(w)\n",
    "            classifiers.append(tree)\n",
    "        self.a=a\n",
    "        self.classifiers = classifiers\n",
    "        \n",
    "    def predict(self,x):\n",
    "        return np.sign(sum(self.a*[cl.predict(x) for cl in self.classifiers]))\n",
    "\n",
    "    #def predict(self,X):\n",
    "    #    return np.concatenate([self.predict1(x) for x in X])\n",
    "    "
   ]
  },
  {
   "cell_type": "code",
   "execution_count": 187,
   "metadata": {},
   "outputs": [],
   "source": [
    "ada = Adaboost(N_classifiers=100,max_depth=1)\n",
    "ada.train(X_train,y_train)\n",
    "#ada.predict(X_test)"
   ]
  },
  {
   "cell_type": "code",
   "execution_count": 188,
   "metadata": {},
   "outputs": [
    {
     "data": {
      "image/png": "[encoded data removed]",
      "text/plain": [
       "<matplotlib.figure.Figure at 0x7fd6df4af6d8>"
      ]
     },
     "metadata": {},
     "output_type": "display_data"
    }
   ],
   "source": [
    "import matplotlib.pyplot as plt\n",
    "from Perceptron import plot_decision_regions\n",
    "\n",
    "plt.figure()\n",
    "plot_decision_regions(X,y,classifier=ada)\n",
    "plt.title('Adaboost')\n",
    "plt.xlabel('Alcohol')\n",
    "plt.ylabel('OD280/OD315 of diluted wines')\n",
    "plt.show()"
   ]
  }
 ],
 "metadata": {
  "kernelspec": {
   "display_name": "Python 3",
   "language": "python",
   "name": "python3"
  },
  "language_info": {
   "codemirror_mode": {
    "name": "ipython",
    "version": 3
   },
   "file_extension": ".py",
   "mimetype": "text/x-python",
   "name": "python",
   "nbconvert_exporter": "python",
   "pygments_lexer": "ipython3",
   "version": "3.6.2"
  }
 },
 "nbformat": 4,
 "nbformat_minor": 2
}
