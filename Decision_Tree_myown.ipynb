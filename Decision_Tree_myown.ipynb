{
 "cells": [
  {
   "cell_type": "markdown",
   "metadata": {},
   "source": [
    "# My Own Decision Tree Classifier"
   ]
  },
  {
   "cell_type": "code",
   "execution_count": 427,
   "metadata": {
    "collapsed": true
   },
   "outputs": [],
   "source": [
    "# import data\n",
    "from sklearn import datasets\n",
    "iris = datasets.load_iris()\n",
    "X = iris.data[:,[2,3]]\n",
    "y = iris.target\n",
    "\n",
    "from sklearn.model_selection import train_test_split\n",
    "X_train,X_test,y_train,y_test = train_test_split(X,y,test_size=0.3,random_state=1,stratify=y)"
   ]
  },
  {
   "cell_type": "code",
   "execution_count": 459,
   "metadata": {
    "collapsed": true
   },
   "outputs": [],
   "source": [
    "import numpy as np\n",
    "def label_it(D):\n",
    "  \"\"\" return the most likely class \"\"\"\n",
    "  X,y = D\n",
    "  v,c = np.unique(y,return_counts=True)\n",
    "  ind = np.argmax(c)\n",
    "  return v[ind]\n",
    "\n",
    "def to_freq(y,debug=False):\n",
    "  \"\"\"convert to frequencies for each class\"\"\"\n",
    "  p =np.array([len(y[y==cl])/len(y) for cl in np.unique(y)])\n",
    "  if debug:\n",
    "    print('from function to_freq',p)\n",
    "  return p\n",
    "\n",
    "def split_data(D,split):\n",
    "  \"\"\"split the data set\"\"\"\n",
    "  X,y = D\n",
    "  idx, threshold = split\n",
    "  idx=int(idx)\n",
    "  Xl=X[X[:,idx] <= threshold,:]\n",
    "  yl=y[X[:,idx] <= threshold]\n",
    "  Xr=X[X[:,idx] > threshold,:]\n",
    "  yr=y[X[:,idx] > threshold]\n",
    "\n",
    "  Dl = (Xl,yl)\n",
    "  Dr = (Xr,yr)\n",
    "  return (Dl,Dr)\n",
    "\n",
    "\n",
    "def get_thresholds_from_vec(x):\n",
    "  \"\"\" thresholds are the middle points of consecutive unique points \"\"\"\n",
    "  return 0.5*np.diff(np.unique(x)) + np.unique(x)[:-1]\n",
    "\n",
    "def get_threshold_from_mat(X):\n",
    "  \"\"\" call get_thresholds from vec, and zip all the results \"\"\"\n",
    "  ns,nf = X.shape\n",
    "  tmp=[get_thresholds_from_vec(X[:,i]) for i in range(nf)]\n",
    "  ids = np.concatenate([(i*np.ones(len(item))) for i, item in zip(np.arange(nf),tmp)])\n",
    "  return [(idx,t) for idx, t in zip(ids,np.concatenate(tmp))]\n",
    "\n",
    "def get_imp(p,metric='entropy'):\n",
    "  \"\"\" Calculate the impurity index\n",
    "  p: is the probability vector, the sum of which equal to 1 \"\"\"\n",
    "  return {\n",
    "       'entropy': (-p*np.log2(p)).sum(),\n",
    "       'error' : 1-np.max(p),\n",
    "       'gini': (p*(1-p)).sum()\n",
    "      }.get(metric)\n",
    "\n",
    "def info_gain(D,split,metric='entropy'):\n",
    "  \"\"\" the information gain of a given split\n",
    "  split: (idx_feature, threshold) is a tuple \"\"\"\n",
    "  Dl,Dr = split_data(D,split)\n",
    "  Nl = len(Dl[1])\n",
    "  Nr = len(Dr[1])\n",
    "  Np = len(D[1])\n",
    "  Il = get_imp(to_freq(Dl[1]),metric=metric)\n",
    "  Ir = get_imp(to_freq(Dr[1]),metric=metric)\n",
    "  Ip = get_imp(to_freq(D[1]),metric=metric)\n",
    "  return Ip - Nl/Np * Il - Nr/Np*Ir\n",
    "\n",
    "\n",
    "###################################################\n",
    "# class definition \n",
    "class BT_node(object):\n",
    "  \"\"\" a simple binary tree node base class\"\"\"\n",
    "  def __init__(self,Data=None,parent=None,metric='entropy',separable=True,updated=False):\n",
    "    self.Data = Data\n",
    "    self.label = label_it(self.Data)\n",
    "    self.parent = parent\n",
    "    self.level = self.parent.level+1 if self.parent is not None  else 0\n",
    "    self.metric = metric\n",
    "    self.separable = separable\n",
    "    self.updated = updated\n",
    "\n",
    "  def update(self):\n",
    "    X,y = self.Data\n",
    "    if len(y) <= 1 or len(np.unique(y))==1:\n",
    "      self.lchild = None\n",
    "      self.rchild = None\n",
    "      self.split = None\n",
    "      self.separable = False\n",
    "    else:\n",
    "      split,Dl,Dr = self.get_child()\n",
    "      self.lchild = BT_node(Data=Dl,parent=self)\n",
    "      self.rchild = BT_node(Data=Dr,parent=self)\n",
    "      self.split = split\n",
    "    \n",
    "    self.updated = True\n",
    "  def get_child(self):\n",
    "    \"\"\" train the decision tree \"\"\"\n",
    "    X,y = self.Data\n",
    "    sps = get_threshold_from_mat(X)\n",
    "    IGs = np.array([info_gain((X,y),sp,self.metric) for sp in sps])\n",
    "    # return the first maximum information gain\n",
    "    cond = IGs==np.max(IGs)\n",
    "    self.IG_max = IGs[cond]\n",
    "    tmp = np.array(sps)[cond]\n",
    "    split = (int(tmp[0,0]),tmp[0,1])\n",
    "    # calculate the class label \n",
    "    Dl,Dr = split_data((X,y),split)\n",
    "    return (split,Dl,Dr)\n",
    "\n",
    "  def info(self):\n",
    "    \"\"\" print out informations \"\"\"\n",
    "    print('split is: ',self.split)\n",
    "    print('childrens are: ',self.lchild,self.rchild)\n",
    "    print('node depth is: ',self.level)\n",
    "    print('parent is: ',self.parent)\n",
    "\n",
    "  def find_leaf(self,x,depth):\n",
    "    node = self\n",
    "    if not node.updated:\n",
    "      node.update()\n",
    "    while depth > node.level and node.separable:\n",
    "      #print('node level: %d' %(node.level))\n",
    "      if node.split is None:\n",
    "            break\n",
    "      if x[node.split[0]] <= node.split[1]:\n",
    "       # print('the %d feature is less than threshold %.2f' %node.split)\n",
    "        if node.lchild is not None:\n",
    "          node = node.lchild\n",
    "        else:\n",
    "          break\n",
    "      else:\n",
    "        if node.rchild is not None:\n",
    "          node = node.rchild\n",
    "        else:\n",
    "          break\n",
    "      if not node.updated:\n",
    "        node.update()\n",
    "    \n",
    "    return node.label\n",
    "\n",
    "class Decision_Tree(object):\n",
    "  \"\"\" Decision Tree, by Wensheng Sun\"\"\"\n",
    "  def __init__(self,max_depth=3,random_state=1,impurity_fun='entropy',debug=False):\n",
    "    self.random_state=random_state\n",
    "    self.impurity_fun = impurity_fun\n",
    "    self.max_depth = max_depth\n",
    "    self.debug = debug\n",
    "\n",
    "  def fit(self,X,y):\n",
    "    \"\"\" growing the Binary Tree \"\"\"\n",
    "    self.root = BT_node((X,y),metric=self.impurity_fun)\n",
    "    self.root.update()\n",
    "    self.root.info()\n",
    "\n",
    "  def predict(self,X):\n",
    "    \"\"\" predict the results\"\"\"\n",
    "    return np.array([self.root.find_leaf(x,self.max_depth) for x in X])\n",
    "\n"
   ]
  },
  {
   "cell_type": "code",
   "execution_count": 460,
   "metadata": {},
   "outputs": [
    {
     "name": "stdout",
     "output_type": "stream",
     "text": [
      "split is:  (0, 2.5999999999999996)\n",
      "childrens are:  <__main__.BT_node object at 0x7f5678c6aba8> <__main__.BT_node object at 0x7f5678c6a828>\n",
      "node depth is:  0\n",
      "parent is:  None\n"
     ]
    }
   ],
   "source": [
    "  # instantiate the Decision Tree classifier\n",
    "  dc = Decision_Tree(impurity_fun='entropy',max_depth=4)\n",
    "  dc.fit(X_train,y_train)\n",
    "  "
   ]
  },
  {
   "cell_type": "code",
   "execution_count": 461,
   "metadata": {},
   "outputs": [
    {
     "data": {
      "text/plain": [
       "array([2, 0, 0, 1, 1, 1, 2, 1, 2, 0, 0, 1, 0, 1, 0, 1, 2, 1, 1, 2, 2, 0,\n",
       "       1, 2, 1, 1, 1, 2, 0, 2, 0, 0, 1, 1, 2, 2, 0, 0, 0, 1, 2, 1, 1, 0,\n",
       "       0])"
      ]
     },
     "execution_count": 461,
     "metadata": {},
     "output_type": "execute_result"
    }
   ],
   "source": [
    "dc.predict(X_test)"
   ]
  },
  {
   "cell_type": "code",
   "execution_count": 462,
   "metadata": {},
   "outputs": [
    {
     "data": {
      "text/plain": [
       "array([2, 0, 0, 2, 1, 1, 2, 1, 2, 0, 0, 2, 0, 1, 0, 1, 2, 1, 1, 2, 2, 0,\n",
       "       1, 2, 1, 1, 1, 2, 0, 2, 0, 0, 1, 1, 2, 2, 0, 0, 0, 1, 2, 2, 1, 0,\n",
       "       0])"
      ]
     },
     "execution_count": 462,
     "metadata": {},
     "output_type": "execute_result"
    }
   ],
   "source": [
    "y_test"
   ]
  },
  {
   "cell_type": "code",
   "execution_count": 463,
   "metadata": {},
   "outputs": [
    {
     "data": {
      "image/png": "[encoded data removed]",
      "text/plain": [
       "<matplotlib.figure.Figure at 0x7f5678a5a6d8>"
      ]
     },
     "metadata": {},
     "output_type": "display_data"
    }
   ],
   "source": [
    "  import pandas as pd\n",
    "  import matplotlib.pyplot as plt\n",
    "  import numpy as np\n",
    "  from Perceptron import plot_decision_regions\n",
    "\n",
    "  #plt.figure()\n",
    "  plot_decision_regions(X,y,classifier=dc)\n",
    "  plt.title('Decision Tree')\n",
    "  plt.xlabel('sepal length [standardized]')\n",
    "  plt.ylabel('petal length [standardized]')\n",
    "  plt.show()\n"
   ]
  },
  {
   "cell_type": "code",
   "execution_count": null,
   "metadata": {
    "collapsed": true
   },
   "outputs": [],
   "source": []
  }
 ],
 "metadata": {
  "kernelspec": {
   "display_name": "Python 3",
   "language": "python",
   "name": "python3"
  },
  "language_info": {
   "codemirror_mode": {
    "name": "ipython",
    "version": 3
   },
   "file_extension": ".py",
   "mimetype": "text/x-python",
   "name": "python",
   "nbconvert_exporter": "python",
   "pygments_lexer": "ipython3",
   "version": "3.6.2"
  }
 },
 "nbformat": 4,
 "nbformat_minor": 2
}
