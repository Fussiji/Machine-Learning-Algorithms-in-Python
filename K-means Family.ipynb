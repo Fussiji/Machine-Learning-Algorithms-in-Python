{
 "cells": [
  {
   "cell_type": "markdown",
   "metadata": {},
   "source": [
    "# K-Means"
   ]
  },
  {
   "cell_type": "code",
   "execution_count": 293,
   "metadata": {
    "collapsed": true
   },
   "outputs": [],
   "source": [
    "# import data from sklearn \n",
    "from sklearn.datasets import make_blobs"
   ]
  },
  {
   "cell_type": "code",
   "execution_count": 294,
   "metadata": {
    "collapsed": true
   },
   "outputs": [],
   "source": [
    "X,y = make_blobs(n_samples=150,n_features=2,centers=5,cluster_std=1,shuffle=True,random_state=1)"
   ]
  },
  {
   "cell_type": "code",
   "execution_count": 295,
   "metadata": {
    "collapsed": true
   },
   "outputs": [],
   "source": [
    "# visualize the data \n",
    "import matplotlib.pyplot as plt"
   ]
  },
  {
   "cell_type": "code",
   "execution_count": 296,
   "metadata": {},
   "outputs": [
    {
     "data": {
      "image/png": "[encoded data removed]",
      "text/plain": [
       "<matplotlib.figure.Figure at 0x7fedb90984e0>"
      ]
     },
     "metadata": {},
     "output_type": "display_data"
    }
   ],
   "source": [
    "plt.scatter(X[:,0],X[:,1],c='black',marker='o',s=50)\n",
    "plt.grid()\n",
    "plt.show()"
   ]
  },
  {
   "cell_type": "code",
   "execution_count": 297,
   "metadata": {
    "collapsed": true
   },
   "outputs": [],
   "source": [
    "# define the K-means class\n",
    "import numpy as np\n"
   ]
  },
  {
   "cell_type": "code",
   "execution_count": 298,
   "metadata": {
    "collapsed": true
   },
   "outputs": [],
   "source": [
    "def dist(X,x):\n",
    "    \"\"\"Calculate the Euclidean distance between \n",
    "    a sample and the k centroids\"\"\"\n",
    "    return [np.linalg.norm(x-x1) for x1 in X]\n",
    "\n",
    "class KMeans(object):\n",
    "    \"\"\"The simple K-means algorithm\"\"\"\n",
    "    def __init__(self,k=1,random_state=5,tol=1,N_max=100):\n",
    "        self.k = k\n",
    "        self.random_state=5\n",
    "        self.tol=tol\n",
    "        self.N_max=N_max\n",
    "        \n",
    "    def fit(self,X):\n",
    "        rgen = np.random.RandomState(self.random_state)\n",
    "        N,Nfeatures = X.shape\n",
    "        ind = rgen.randint(low=0,high=N,size=self.k)\n",
    "        centroids = X[ind,:]\n",
    "        # label the samples\n",
    "        D=[ dist(centroids,x) for x in X]\n",
    "        y_old=np.argmin(D,axis=1)\n",
    "        \n",
    "        \n",
    "        ii = 0\n",
    "        err = np.inf\n",
    "        while ii< self.N_max and err > self.tol:\n",
    "            \n",
    "            #print(centroids)\n",
    "            # update the centroids\n",
    "            centroids = np.array([ np.mean(X[y_old==lb,:],axis=0) for lb in np.unique(y_old)])\n",
    "            D=np.array([ dist(centroids,x) for x in X])\n",
    "            y_new=np.argmin(D,axis=1)\n",
    "\n",
    "            err = (y_old!=y_new).sum()\n",
    "            y_old=y_new\n",
    "            \n",
    "            ii+=1\n",
    "            \n",
    "        self.y = y_old\n",
    "        self.cluster_centers_=centroids\n",
    "        return self"
   ]
  },
  {
   "cell_type": "code",
   "execution_count": 299,
   "metadata": {
    "collapsed": true
   },
   "outputs": [],
   "source": [
    "class KMeansPP(object):\n",
    "    \"\"\"The K-means ++ algorithm,\n",
    "    which choose the centroids smartly.\n",
    "    Reference: Python_Machine_learning_with_Scikit_and_TensorFlow\n",
    "    Implementation: Wensheng Sun\"\"\"\n",
    "    def __init__(self,k=1,random_state=5,tol=1,N_max=100):\n",
    "        self.k = k\n",
    "        self.random_state=5\n",
    "        self.tol=tol\n",
    "        self.N_max=N_max\n",
    "        \n",
    "    def fit(self,X):\n",
    "        rgen = np.random.RandomState(self.random_state)\n",
    "        N,Nfeatures = X.shape\n",
    "        \n",
    "        \n",
    "        M = []\n",
    "        pmf = np.ones(N)/N\n",
    "        # smart start of KMeans++\n",
    "        for _ in range(0,self.k):\n",
    "            ind = rgen.choice(np.arange(0,len(pmf)),p=pmf,size=1)\n",
    "            M.append(ind)\n",
    "            #print(np.array(M))\n",
    "            ind_rest = [x for x in range(0,N) if x not in M]\n",
    "            D=np.array([ np.min(dist(X[M,:],x)) for x in X[ind_rest,:]])\n",
    "            #print(D)\n",
    "            pmf = D/D.sum()\n",
    "        \n",
    "        centroids = X[M,:]\n",
    "        # label the samples\n",
    "        D=[ dist(centroids,x) for x in X]\n",
    "        y_old=np.argmin(D,axis=1)\n",
    "        \n",
    "        \n",
    "        ii = 0\n",
    "        err = np.inf\n",
    "        while ii< self.N_max and err > self.tol:\n",
    "            \n",
    "            #print(centroids)\n",
    "            # update the centroids\n",
    "            centroids = np.array([ np.mean(X[y_old==lb,:],axis=0) for lb in np.unique(y_old)])\n",
    "            D=np.array([ dist(centroids,x) for x in X])\n",
    "            y_new=np.argmin(D,axis=1)\n",
    "\n",
    "            err = (y_old!=y_new).sum()\n",
    "            y_old=y_new\n",
    "            \n",
    "            ii+=1\n",
    "            \n",
    "        self.y = y_old\n",
    "        self.cluster_centers_=centroids\n",
    "        return self"
   ]
  },
  {
   "cell_type": "code",
   "execution_count": 300,
   "metadata": {
    "collapsed": true
   },
   "outputs": [],
   "source": [
    "import numpy as np\n",
    "import math\n",
    "\n",
    "def norm(x):\n",
    "    return np.linalg.norm(x)\n",
    "\n",
    "class FCM(object):\n",
    "    \"\"\"The Fuzzy C-Means algorithm,\n",
    "    which uses soft clustering instead of hard clustering.\n",
    "    Reference: Python_Machine_learning_with_Scikit_and_TensorFlow\n",
    "    Implementation: Wensheng Sun\"\"\"\n",
    "    def __init__(self,k=1,random_state=5,tol=1,N_max=100,m=2):\n",
    "        self.k = k # number of clusters\n",
    "        self.random_state=5\n",
    "        self.tol=tol\n",
    "        self.N_max=N_max\n",
    "        self.m = m # fuzziness coefficient\n",
    "        \n",
    "    def centroids(self,X,W=None):\n",
    "        if W is None:\n",
    "            W = np.ones((X.shape[0],self.k))/self.k\n",
    "        centroids=np.array([w.dot(X)/w.sum() for w in W.T])\n",
    "        return centroids\n",
    "    \n",
    "    def update_member(self,X,cent):\n",
    "        W = np.zeros((X.shape[0],self.k))\n",
    "        for ii in range(0,X.shape[0]):\n",
    "            for jj in range(0,self.k):\n",
    "                tmp = norm(X[ii,:]-cent[jj])/[norm(X[ii,:]-c) for c in cent]\n",
    "                w_tmp = np.array([math.pow(t,2/(self.m-1)) for t in tmp]).sum()\n",
    "                W[ii,jj] = math.pow(w_tmp,-1)\n",
    "        return W\n",
    "    \n",
    "    \n",
    "    \n",
    "    def fit(self,X):\n",
    "        rgen = np.random.RandomState(self.random_state)\n",
    "        N,Nfeatures = X.shape\n",
    "\n",
    "        W = rgen.normal(loc=0,scale=1,size=(N,self.k)) # randomly assign membership\n",
    "        W = np.array([w/w.sum() for w in W]) # normalize the weights\n",
    "        \n",
    "        cent = self.centroids(X,W)\n",
    "\n",
    "        # update the cluster membership i.e. W\n",
    "        W = self.update_member(X,cent)\n",
    "        ii=0\n",
    "\n",
    "        while ii< self.N_max:\n",
    "            cent = self.centroids(X,W)\n",
    "            # update the cluster membership i.e. W\n",
    "            W = self.update_member(X,cent)\n",
    "            ii+=1\n",
    "            \n",
    "        self.W = W\n",
    "        self.cluster_centers_=cent\n",
    "        return self"
   ]
  },
  {
   "cell_type": "code",
   "execution_count": 301,
   "metadata": {},
   "outputs": [
    {
     "data": {
      "image/png": "[encoded data removed]",
      "text/plain": [
       "<matplotlib.figure.Figure at 0x7fedbb147f60>"
      ]
     },
     "metadata": {},
     "output_type": "display_data"
    }
   ],
   "source": [
    "km = FCM(k=5,tol=0)\n",
    "km.fit(X)\n",
    "y_km = np.argmax(km.W,axis=1)\n",
    "#print(km.cluster_centers_)\n",
    "\n",
    "# visualize the results\n",
    "plt.scatter(X[y_km == 0, 0],\n",
    "            X[y_km == 0, 1],\n",
    "            s=50, c='lightgreen',\n",
    "            marker='s', edgecolor='black',\n",
    "            label='cluster 1')\n",
    "plt.scatter(X[y_km == 1, 0],\n",
    "            X[y_km == 1, 1],\n",
    "            s=50, c='orange',\n",
    "            marker='o', edgecolor='black',\n",
    "            label='cluster 2')\n",
    "plt.scatter(X[y_km == 2, 0],\n",
    "            X[y_km == 2, 1],\n",
    "            s=50, c='lightblue',\n",
    "            marker='v', edgecolor='black',\n",
    "            label='cluster 3')\n",
    "plt.scatter(X[y_km == 3, 0],\n",
    "            X[y_km == 3, 1],\n",
    "            s=50, c='lightyellow',\n",
    "            marker='v', edgecolor='black',\n",
    "            label='cluster 4')\n",
    "plt.scatter(X[y_km == 4, 0],\n",
    "            X[y_km == 4, 1],\n",
    "            s=50, c='M',\n",
    "            marker='v', edgecolor='black',\n",
    "            label='cluster 3')\n",
    "plt.scatter(km.cluster_centers_[:,0],\n",
    "            km.cluster_centers_[:,1],\n",
    "            s=250, marker='*',\n",
    "            c='red', edgecolor='black',\n",
    "            label='centroids')\n",
    "plt.legend(scatterpoints=1)\n",
    "plt.grid()\n",
    "plt.show()\n"
   ]
  },
  {
   "cell_type": "code",
   "execution_count": null,
   "metadata": {
    "collapsed": true
   },
   "outputs": [],
   "source": []
  }
 ],
 "metadata": {
  "kernelspec": {
   "display_name": "Python 3",
   "language": "python",
   "name": "python3"
  },
  "language_info": {
   "codemirror_mode": {
    "name": "ipython",
    "version": 3
   },
   "file_extension": ".py",
   "mimetype": "text/x-python",
   "name": "python",
   "nbconvert_exporter": "python",
   "pygments_lexer": "ipython3",
   "version": "3.6.2"
  }
 },
 "nbformat": 4,
 "nbformat_minor": 2
}
