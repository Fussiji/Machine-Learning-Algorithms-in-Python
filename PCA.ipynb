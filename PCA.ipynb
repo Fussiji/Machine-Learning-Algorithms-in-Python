{
 "cells": [
  {
   "cell_type": "markdown",
   "metadata": {},
   "source": [
    "# Principal componant analysis"
   ]
  },
  {
   "cell_type": "code",
   "execution_count": 144,
   "metadata": {},
   "outputs": [],
   "source": [
    "import pandas as pd\n",
    "# import data \n",
    "# read wine data\n",
    "df_wine = pd.read_csv('wine.data',header=None)\n",
    "df_wine.columns = ['Class label', 'Alcohol',\n",
    " 'Malic acid', 'Ash',\n",
    " 'Alcalinity of ash', 'Magnesium',\n",
    " 'Total phenols', 'Flavanoids',\n",
    " 'Nonflavanoid phenols',\n",
    " 'Proanthocyanins',\n",
    " 'Color intensity', 'Hue',\n",
    " 'OD280/OD315 of diluted wines',\n",
    " 'Proline']\n",
    "\n",
    "from sklearn.model_selection import train_test_split\n",
    "X,y = df_wine.iloc[:,1:].values, df_wine.iloc[:,0].values\n",
    "X_train, X_test, y_train, y_test = train_test_split(X, y,\n",
    " test_size=0.3,\n",
    " random_state=0,\n",
    " stratify=y)"
   ]
  },
  {
   "cell_type": "code",
   "execution_count": 145,
   "metadata": {},
   "outputs": [],
   "source": [
    "import numpy as np\n",
    "def standardize(X):\n",
    "    \"\"\" remove mean and divide by std\"\"\"\n",
    "    m = np.mean(X,axis=0)\n",
    "    std = np.std(X,axis=0)\n",
    "    return (X-m)/std\n",
    "class PCA(object):\n",
    "    \"\"\"The principle component analysis class\"\"\"\n",
    "    def __init__(self,k=2):\n",
    "        self.k = k # number of projected features\n",
    "    \n",
    "    \n",
    "    def fit(self,X):\n",
    "        \"\"\"Compute the transform matrix from covariance matrix of\n",
    "        the standardized data\"\"\"\n",
    "        X_std = standardize(X)\n",
    "        cov = np.dot(X_std.T,X_std)/(X_std.shape[0]-1) # unbiased estimation,since data is standardized\n",
    "        # or cov = np.cov(X_std.T)\n",
    "        self.eigen_vals, self.eigen_vecs = np.linalg.eig(cov)\n",
    "        \n",
    "        \"\"\"a: the eigen val, eigen vec pairs\"\"\"\n",
    "        a = [i for i in zip(self.eigen_vals,self.eigen_vecs.T)] # zip works row wise for a matrix\n",
    "        a_sorted = sorted(a,key=lambda x: x[0],reverse=True)\n",
    "        #print(a_sorted)\n",
    "        self.w = np.hstack((a_sorted[i][1][:,np.newaxis] for i in range(self.k)))\n",
    "        return self \n",
    "\n",
    "    def project(self,X):\n",
    "        return np.dot(X,self.w)"
   ]
  },
  {
   "cell_type": "code",
   "execution_count": 146,
   "metadata": {},
   "outputs": [],
   "source": [
    "pca=PCA(2)"
   ]
  },
  {
   "cell_type": "code",
   "execution_count": 147,
   "metadata": {},
   "outputs": [],
   "source": [
    "pca.fit(X_train)\n",
    "X_train_projected = pca.project(standardize(X_train))"
   ]
  },
  {
   "cell_type": "code",
   "execution_count": 148,
   "metadata": {},
   "outputs": [
    {
     "data": {
      "image/png": "[encoded data removed]",
      "text/plain": [
       "<matplotlib.figure.Figure at 0x7f9b35c0ce10>"
      ]
     },
     "metadata": {},
     "output_type": "display_data"
    }
   ],
   "source": [
    "import matplotlib.pyplot as plt\n",
    "markers = ['o','*','s']\n",
    "plt.figure()\n",
    "for ii,cl in enumerate(np.unique(y_train)):\n",
    "    plt.scatter(X_train_projected[y_train==cl,0],X_train_projected[y_train==cl,1],marker=markers[ii],label=ii)\n",
    "plt.legend(loc='upper right')\n",
    "plt.show()"
   ]
  },
  {
   "cell_type": "code",
   "execution_count": 151,
   "metadata": {},
   "outputs": [],
   "source": [
    "zip?"
   ]
  },
  {
   "cell_type": "code",
   "execution_count": null,
   "metadata": {
    "collapsed": true
   },
   "outputs": [],
   "source": []
  }
 ],
 "metadata": {
  "kernelspec": {
   "display_name": "Python 3",
   "language": "python",
   "name": "python3"
  },
  "language_info": {
   "codemirror_mode": {
    "name": "ipython",
    "version": 3
   },
   "file_extension": ".py",
   "mimetype": "text/x-python",
   "name": "python",
   "nbconvert_exporter": "python",
   "pygments_lexer": "ipython3",
   "version": "3.6.2"
  }
 },
 "nbformat": 4,
 "nbformat_minor": 2
}
